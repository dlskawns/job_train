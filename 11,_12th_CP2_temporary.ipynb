{
  "nbformat": 4,
  "nbformat_minor": 0,
  "metadata": {
    "colab": {
      "name": "11, 12th CP2 temporary.ipynb",
      "provenance": [],
      "authorship_tag": "ABX9TyPWFKrSeKHATpkhny7ndAfE",
      "include_colab_link": true
    },
    "kernelspec": {
      "name": "python3",
      "display_name": "Python 3"
    },
    "language_info": {
      "name": "python"
    }
  },
  "cells": [
    {
      "cell_type": "markdown",
      "metadata": {
        "id": "view-in-github",
        "colab_type": "text"
      },
      "source": [
        "<a href=\"https://colab.research.google.com/github/dlskawns/job_train/blob/master/11%2C_12th_CP2_temporary.ipynb\" target=\"_parent\"><img src=\"https://colab.research.google.com/assets/colab-badge.svg\" alt=\"Open In Colab\"/></a>"
      ]
    },
    {
      "cell_type": "code",
      "execution_count": null,
      "metadata": {
        "id": "IaNlUXZ1XJ6A"
      },
      "outputs": [],
      "source": [
        "import pandas as pd\n",
        "\n",
        "sheet_id = \"1h-iL2hvdojoAk5ZK8tg7XdlYwu5wy5rPGnIsItZ3COI\"\n",
        "sheet_name = \"cp2v2\"\n",
        "url = f\"https://docs.google.com/spreadsheets/d/{sheet_id}/gviz/tq?tqx=out:csv&sheet={sheet_name}\"\n",
        "df = pd.read_csv(url)"
      ]
    },
    {
      "cell_type": "code",
      "source": [
        "from google.colab import drive\n",
        "\n",
        "drive.mount('/content/drive')"
      ],
      "metadata": {
        "colab": {
          "base_uri": "https://localhost:8080/"
        },
        "id": "HgGvi-7bXMXC",
        "outputId": "1be41d94-8899-40df-db09-c2cbbf9f1f69"
      },
      "execution_count": 4,
      "outputs": [
        {
          "output_type": "stream",
          "name": "stdout",
          "text": [
            "Mounted at /content/drive\n"
          ]
        }
      ]
    },
    {
      "cell_type": "code",
      "source": [
        "import pandas as pd\n",
        "\n",
        "df1 = pd.read_excel('/content/drive/MyDrive/[AIB] Section Survey (TypeForm).gsheet', sheet_name= 5)"
      ],
      "metadata": {
        "id": "g_gJMT0JXh-S"
      },
      "execution_count": null,
      "outputs": []
    },
    {
      "cell_type": "markdown",
      "source": [
        "## 8/12 - 11,12기 CP2 경험 분석"
      ],
      "metadata": {
        "id": "tSeEIOL2rQt3"
      }
    },
    {
      "cell_type": "markdown",
      "source": [
        "## 환경설정\n"
      ],
      "metadata": {
        "id": "grJki4T6cEse"
      }
    },
    {
      "cell_type": "code",
      "execution_count": 1,
      "metadata": {
        "id": "NSSrVOMPrNlU"
      },
      "outputs": [],
      "source": [
        "# 경고 없애기\n",
        "import warnings\n",
        "warnings.filterwarnings(action='ignore')"
      ]
    },
    {
      "cell_type": "code",
      "source": [
        "# # 나눔폰츠 설치 -> 실행 후 런타임 리셋해야함\n",
        "# !sudo apt-get install -y fonts-nanum\n",
        "# !sudo fc-cache -fv\n",
        "# !rm ~/.cache/matplotlib -rf"
      ],
      "metadata": {
        "id": "vBHLC0xe22XA"
      },
      "execution_count": null,
      "outputs": []
    },
    {
      "cell_type": "code",
      "source": [
        "# 나눔폰트 설치\n",
        "!apt-get update -qq\n",
        "!apt-get install fonts-nanum* -qq"
      ],
      "metadata": {
        "colab": {
          "base_uri": "https://localhost:8080/"
        },
        "id": "mz1yl4xQAeLS",
        "outputId": "ff7f3cc8-6864-4aee-b39a-c009fd05a687"
      },
      "execution_count": 2,
      "outputs": [
        {
          "output_type": "stream",
          "name": "stdout",
          "text": [
            "Selecting previously unselected package fonts-nanum-eco.\n",
            "(Reading database ... 155698 files and directories currently installed.)\n",
            "Preparing to unpack .../fonts-nanum-eco_1.000-6_all.deb ...\n",
            "Unpacking fonts-nanum-eco (1.000-6) ...\n",
            "Selecting previously unselected package fonts-nanum-extra.\n",
            "Preparing to unpack .../fonts-nanum-extra_20170925-1_all.deb ...\n",
            "Unpacking fonts-nanum-extra (20170925-1) ...\n",
            "Selecting previously unselected package fonts-nanum-coding.\n",
            "Preparing to unpack .../fonts-nanum-coding_2.5-1_all.deb ...\n",
            "Unpacking fonts-nanum-coding (2.5-1) ...\n",
            "Setting up fonts-nanum-extra (20170925-1) ...\n",
            "Setting up fonts-nanum-coding (2.5-1) ...\n",
            "Setting up fonts-nanum-eco (1.000-6) ...\n",
            "Processing triggers for fontconfig (2.12.6-0ubuntu2) ...\n"
          ]
        }
      ]
    },
    {
      "cell_type": "code",
      "source": [
        "import matplotlib.pyplot as plt\n",
        "import matplotlib as mpl\n",
        "import matplotlib.font_manager as fm\n",
        "from matplotlib import font_manager,rc\n",
        "\n",
        "font_list = fm.findSystemFonts()\n",
        "font_path= '/usr/share/fonts/truetype/nanum/NanumGothic.ttf'\n",
        "font_name=font_manager.FontProperties(fname=font_path).get_name()\n",
        "rc('font',family=font_name)"
      ],
      "metadata": {
        "id": "4DhCMDCFAeLS"
      },
      "execution_count": 3,
      "outputs": []
    },
    {
      "cell_type": "markdown",
      "source": [
        "## 데이터셋 불러오기"
      ],
      "metadata": {
        "id": "OTG_3bGKcIAc"
      }
    },
    {
      "cell_type": "code",
      "execution_count": 4,
      "metadata": {
        "colab": {
          "base_uri": "https://localhost:8080/"
        },
        "id": "z8BzZT-S_t8S",
        "outputId": "1226cc6c-a93f-453e-e348-ba8cd04f174f"
      },
      "outputs": [
        {
          "output_type": "stream",
          "name": "stdout",
          "text": [
            "Mounted at /content/drive\n"
          ]
        }
      ],
      "source": [
        "from google.colab import drive\n",
        "\n",
        "drive.mount('/content/drive')"
      ]
    },
    {
      "cell_type": "code",
      "source": [
        "import pandas as pd\n",
        "\n",
        "# # CP1 데이터셋 (사용안함)\n",
        "# df1 = pd.read_excel('/content/drive/MyDrive/고객만족도조사0615_2xlsx.xlsx', sheet_name= 6)\n",
        "\n",
        "# CP2 데이터셋 \n",
        "df2 = pd.read_excel('/content/drive/MyDrive/[AIB] Section Survey (TypeForm).xlsx', sheet_name= 7)\n"
      ],
      "metadata": {
        "id": "uk3-TB_J_2po"
      },
      "execution_count": 107,
      "outputs": []
    },
    {
      "cell_type": "markdown",
      "source": [
        "## 초간단 EDA 및 특성공학"
      ],
      "metadata": {
        "id": "Xom2wOyhdaPk"
      }
    },
    {
      "cell_type": "code",
      "source": [
        "# 기수 및 기수 별 인원확인\n",
        "for i, j in zip(df2.기수.value_counts().index, df2.기수.value_counts().values):\n",
        "  if i == 11 or i == 12:\n",
        "    print(f\"{int(i)}기: {j}명\")"
      ],
      "metadata": {
        "colab": {
          "base_uri": "https://localhost:8080/"
        },
        "id": "iFNwXuZjx6OW",
        "outputId": "6681a0df-f6ec-4884-a1fd-90c5687e494c"
      },
      "execution_count": 110,
      "outputs": [
        {
          "output_type": "stream",
          "name": "stdout",
          "text": [
            "12기: 18명\n",
            "11기: 15명\n"
          ]
        }
      ]
    },
    {
      "cell_type": "code",
      "source": [
        "# 추천점수 결측치 해결\n",
        "df2['CP2 자기 주도 프로젝트 추천점수'] = df2['CP2 자기 주도 프로젝트 추천점수'].fillna('').map(lambda x: int(x[0]) if x != '' else x)\n",
        "df2['CP2 기업 프로젝트 추천점수'] = df2['CP2 기업 프로젝트 추천점수'].fillna('').map(lambda x: int(x[0]) if x != '' else x)\n",
        "# 만족도 결측치 해결\n",
        "df2['CP2 완성도에 대한 만족도'] = df2['CP2 완성도에 대한 만족도'].fillna('').map(lambda x: int(x[0]) if x != '' else x)"
      ],
      "metadata": {
        "id": "MdL4HfJv0veX"
      },
      "execution_count": 111,
      "outputs": []
    },
    {
      "cell_type": "code",
      "source": [
        "# 9,10기 데이터\n",
        "df910 = df2[(df2['기수']==9)|(df2['기수']==10)]\n",
        "\n",
        "# 7,8기 데이터\n",
        "df78 = df2[(df2['기수']==7)|(df2['기수']==8)]\n",
        "\n",
        "# 11,12기 데이터\n",
        "df1112 = df2[(df2['기수']==11)|(df2['기수']==12)]"
      ],
      "metadata": {
        "id": "PfAxKWHx1gwQ"
      },
      "execution_count": 113,
      "outputs": []
    },
    {
      "cell_type": "code",
      "source": [
        "# 기업 분류와 코드스테이츠 여부를 파악하는 컬럼 이름 변경\n",
        "df1112.rename(columns= {'Unnamed: 40': '기업여부', 'Unnamed: 41': '코드여부'}, inplace = True)"
      ],
      "metadata": {
        "id": "qFdojtZs-Gs4"
      },
      "execution_count": 114,
      "outputs": []
    },
    {
      "cell_type": "markdown",
      "source": [
        "#### [전체] 완성 만족도 및 추천 점수 데이터"
      ],
      "metadata": {
        "id": "VnOuEJ_bsy_z"
      }
    },
    {
      "cell_type": "code",
      "source": [
        "import numpy as np\n",
        "#평균 점수 파악\n",
        "print(f\"7,8기 자기주도 프로젝트 추천점수 평균: {round(np.mean(df78[df78['CP2 자기 주도 프로젝트 추천점수']!='']['CP2 자기 주도 프로젝트 추천점수']),2)}\")\n",
        "print(f\"7,8기 기업 프로젝트 추천점수 평균: {round(np.mean(df78[df78['CP2 기업 프로젝트 추천점수']!='']['CP2 기업 프로젝트 추천점수']),2)}\")\n",
        "print(f\"\\n9,10기 자기주도 프로젝트 추천점수 평균: {round(np.mean(df910[df910['CP2 자기 주도 프로젝트 추천점수']!='']['CP2 자기 주도 프로젝트 추천점수']),2)}\")\n",
        "print(f\"9,10기 기업 프로젝트 추천점수 평균: {round(np.mean(df910[df910['CP2 기업 프로젝트 추천점수']!='']['CP2 기업 프로젝트 추천점수']),2)}\")\n",
        "\n",
        "print(f\"\\n11, 12기 자기주도 프로젝트 추천점수 평균: {round(np.mean(df1112[df1112['CP2 자기 주도 프로젝트 추천점수']!='']['CP2 자기 주도 프로젝트 추천점수']),2)}\")\n",
        "print(f\"11, 12기 기업 프로젝트 추천점수 평균: {round(np.mean(df1112[df1112['CP2 기업 프로젝트 추천점수']!='']['CP2 기업 프로젝트 추천점수']),2)}\")"
      ],
      "metadata": {
        "colab": {
          "base_uri": "https://localhost:8080/"
        },
        "id": "fJ7pq8vnyQxg",
        "outputId": "fae22287-08e3-4b51-b7a9-f7ab5a308e71"
      },
      "execution_count": 116,
      "outputs": [
        {
          "output_type": "stream",
          "name": "stdout",
          "text": [
            "7,8기 자기주도 프로젝트 추천점수 평균: 4.89\n",
            "7,8기 기업 프로젝트 추천점수 평균: 4.81\n",
            "\n",
            "9,10기 자기주도 프로젝트 추천점수 평균: 4.0\n",
            "9,10기 기업 프로젝트 추천점수 평균: 4.7\n",
            "\n",
            "11, 12기 자기주도 프로젝트 추천점수 평균: 5.44\n",
            "11, 12기 기업 프로젝트 추천점수 평균: 4.58\n"
          ]
        }
      ]
    },
    {
      "cell_type": "code",
      "source": [
        ""
      ],
      "metadata": {
        "id": "gPcV7y0Q3FEd"
      },
      "execution_count": null,
      "outputs": []
    },
    {
      "cell_type": "code",
      "source": [
        "print(f\"전체 자기 주도 프로젝트 추천점수 평균: {np.mean(df2[df2['CP2 자기 주도 프로젝트 추천점수']!='']['CP2 자기 주도 프로젝트 추천점수'])}\")\n",
        "print(f\"전체 기업 프로젝트 추천점수 평균: {np.mean(df2[df2['CP2 기업 프로젝트 추천점수']!='']['CP2 기업 프로젝트 추천점수'])}\")"
      ],
      "metadata": {
        "colab": {
          "base_uri": "https://localhost:8080/"
        },
        "id": "94ikujEXyWjT",
        "outputId": "08655bed-f365-4103-cf38-b4c60f1a8b2d"
      },
      "execution_count": 117,
      "outputs": [
        {
          "output_type": "stream",
          "name": "stdout",
          "text": [
            "전체 자기 주도 프로젝트 추천점수 평균: 4.913043478260869\n",
            "전체 기업 프로젝트 추천점수 평균: 4.676056338028169\n"
          ]
        }
      ]
    },
    {
      "cell_type": "markdown",
      "source": [
        "자기주도 프로젝트: 평균 최고점 갱신  \n",
        "기업협업 프로젝트: 평균 최하점 갱신"
      ],
      "metadata": {
        "id": "b61qPjkNZFyY"
      }
    },
    {
      "cell_type": "code",
      "source": [
        "print(f\"7,8기 CP2 완성도에 대한 만족도 평균: {np.mean(df78[df78['CP2 완성도에 대한 만족도']!='']['CP2 완성도에 대한 만족도'])}\")\n",
        "print(f\"9,10기 CP2 완성도에 대한 만족도 평균: {np.mean(df910[df910['CP2 완성도에 대한 만족도']!='']['CP2 완성도에 대한 만족도'])}\")\n",
        "print(f\"11,12기 CP2 완성도에 대한 만족도 평균: {np.mean(df1112[df1112['CP2 완성도에 대한 만족도']!='']['CP2 완성도에 대한 만족도'])}\")\n",
        "print(f\"전체 CP2 완성도에 대한 만족도 평균: {np.mean(df2[df2['CP2 완성도에 대한 만족도']!='']['CP2 완성도에 대한 만족도'])}\")"
      ],
      "metadata": {
        "colab": {
          "base_uri": "https://localhost:8080/"
        },
        "id": "FnPYAQnc1Tqk",
        "outputId": "1a390567-dd74-4f94-e355-8e836e926d4c"
      },
      "execution_count": 118,
      "outputs": [
        {
          "output_type": "stream",
          "name": "stdout",
          "text": [
            "7,8기 CP2 완성도에 대한 만족도 평균: 4.228571428571429\n",
            "9,10기 CP2 완성도에 대한 만족도 평균: 3.92\n",
            "11,12기 CP2 완성도에 대한 만족도 평균: 4.212121212121212\n",
            "전체 CP2 완성도에 대한 만족도 평균: 4.138297872340425\n"
          ]
        }
      ]
    },
    {
      "cell_type": "code",
      "source": [
        "# df910['CP2에서 가장 어려운 점(기업)'].fillna('없음', inplace = True)\n",
        "# df910['CP2에서 가장 어려운 점(자기 주도 프로젝트)'].fillna('없음', inplace = True)\n",
        "\n",
        "# df910['CP2 어려운점'] = df910['CP2에서 가장 어려운 점(기업)']+df910['CP2에서 가장 어려운 점(자기 주도 프로젝트)']\n",
        "# df910['CP2 어려운점'] = df910['CP2 어려운점'].map(lambda x: x.replace('없음',''))\n",
        "\n",
        "df1112['CP2에서 가장 어려운 점(기업)'].fillna('없음', inplace = True)\n",
        "df1112['CP2에서 가장 어려운 점(자기 주도 프로젝트)'].fillna('없음', inplace = True)\n",
        "\n",
        "df1112['CP2 어려운점'] = df1112['CP2에서 가장 어려운 점(기업)']+df1112['CP2에서 가장 어려운 점(자기 주도 프로젝트)']\n",
        "df1112['CP2 어려운점'] = df1112['CP2 어려운점'].map(lambda x: x.replace('없음',''))"
      ],
      "metadata": {
        "id": "WP0MeVa9W-g5"
      },
      "execution_count": 119,
      "outputs": []
    },
    {
      "cell_type": "markdown",
      "source": [
        "#### [기업 별] 11,12기 완성 만족도 및 추천 점수 데이터"
      ],
      "metadata": {
        "id": "k3dxb-q7sgfW"
      }
    },
    {
      "cell_type": "code",
      "source": [
        "\n",
        "# 개인, 기업 프로젝트 컬럼을 합쳐주는 작업\n",
        "df1112['추천점수'] = df1112['CP2 자기 주도 프로젝트 추천점수'].map(lambda x: 0 if x == '' else x)+\\\n",
        "df1112['CP2 기업 프로젝트 추천점수'].map(lambda x: 0 if x == '' else x)\n",
        "\n",
        "# 추천점수 파악을 위한 새로운 데이터프레임 생성\n",
        "df_rec = df1112.groupby('기업여부')['추천점수'].mean().reset_index()\n",
        "\n",
        "#인원 파악을 위한 '인원'컬럼 추가\n",
        "\n",
        "df_rec['만족도'] =df1112.groupby('기업여부')['CP2 완성도에 대한 만족도'].mean().values\n",
        "df_rec['인원'] = df1112.groupby('기업여부')['기업여부'].count().values\n",
        "# 기업별 완성 만족도 및 추천 점수, 인원\n",
        "df_rec.rename(columns = {'CP2 완성도에 대한 만족도': '만족도'}, inplace = True)\n",
        "df_rec"
      ],
      "metadata": {
        "colab": {
          "base_uri": "https://localhost:8080/",
          "height": 238
        },
        "outputId": "baf38938-6c3e-4f56-b5f9-acb61697425b",
        "id": "G5Xb0oNgsgfW"
      },
      "execution_count": 125,
      "outputs": [
        {
          "output_type": "execute_result",
          "data": {
            "text/plain": [
              "      기업여부      추천점수       만족도  인원\n",
              "0       개인  5.444444  4.555556   9\n",
              "1     넥스트랩  5.200000  4.200000   5\n",
              "2    분석&추천  5.600000  4.800000   5\n",
              "3    올마이투어  3.000000  3.500000   8\n",
              "4       와플  3.500000  2.500000   2\n",
              "5  후케어스코리아  6.250000  5.000000   4"
            ],
            "text/html": [
              "\n",
              "  <div id=\"df-a756957e-f2f6-44a2-8417-bafe1ca8ab11\">\n",
              "    <div class=\"colab-df-container\">\n",
              "      <div>\n",
              "<style scoped>\n",
              "    .dataframe tbody tr th:only-of-type {\n",
              "        vertical-align: middle;\n",
              "    }\n",
              "\n",
              "    .dataframe tbody tr th {\n",
              "        vertical-align: top;\n",
              "    }\n",
              "\n",
              "    .dataframe thead th {\n",
              "        text-align: right;\n",
              "    }\n",
              "</style>\n",
              "<table border=\"1\" class=\"dataframe\">\n",
              "  <thead>\n",
              "    <tr style=\"text-align: right;\">\n",
              "      <th></th>\n",
              "      <th>기업여부</th>\n",
              "      <th>추천점수</th>\n",
              "      <th>만족도</th>\n",
              "      <th>인원</th>\n",
              "    </tr>\n",
              "  </thead>\n",
              "  <tbody>\n",
              "    <tr>\n",
              "      <th>0</th>\n",
              "      <td>개인</td>\n",
              "      <td>5.444444</td>\n",
              "      <td>4.555556</td>\n",
              "      <td>9</td>\n",
              "    </tr>\n",
              "    <tr>\n",
              "      <th>1</th>\n",
              "      <td>넥스트랩</td>\n",
              "      <td>5.200000</td>\n",
              "      <td>4.200000</td>\n",
              "      <td>5</td>\n",
              "    </tr>\n",
              "    <tr>\n",
              "      <th>2</th>\n",
              "      <td>분석&amp;추천</td>\n",
              "      <td>5.600000</td>\n",
              "      <td>4.800000</td>\n",
              "      <td>5</td>\n",
              "    </tr>\n",
              "    <tr>\n",
              "      <th>3</th>\n",
              "      <td>올마이투어</td>\n",
              "      <td>3.000000</td>\n",
              "      <td>3.500000</td>\n",
              "      <td>8</td>\n",
              "    </tr>\n",
              "    <tr>\n",
              "      <th>4</th>\n",
              "      <td>와플</td>\n",
              "      <td>3.500000</td>\n",
              "      <td>2.500000</td>\n",
              "      <td>2</td>\n",
              "    </tr>\n",
              "    <tr>\n",
              "      <th>5</th>\n",
              "      <td>후케어스코리아</td>\n",
              "      <td>6.250000</td>\n",
              "      <td>5.000000</td>\n",
              "      <td>4</td>\n",
              "    </tr>\n",
              "  </tbody>\n",
              "</table>\n",
              "</div>\n",
              "      <button class=\"colab-df-convert\" onclick=\"convertToInteractive('df-a756957e-f2f6-44a2-8417-bafe1ca8ab11')\"\n",
              "              title=\"Convert this dataframe to an interactive table.\"\n",
              "              style=\"display:none;\">\n",
              "        \n",
              "  <svg xmlns=\"http://www.w3.org/2000/svg\" height=\"24px\"viewBox=\"0 0 24 24\"\n",
              "       width=\"24px\">\n",
              "    <path d=\"M0 0h24v24H0V0z\" fill=\"none\"/>\n",
              "    <path d=\"M18.56 5.44l.94 2.06.94-2.06 2.06-.94-2.06-.94-.94-2.06-.94 2.06-2.06.94zm-11 1L8.5 8.5l.94-2.06 2.06-.94-2.06-.94L8.5 2.5l-.94 2.06-2.06.94zm10 10l.94 2.06.94-2.06 2.06-.94-2.06-.94-.94-2.06-.94 2.06-2.06.94z\"/><path d=\"M17.41 7.96l-1.37-1.37c-.4-.4-.92-.59-1.43-.59-.52 0-1.04.2-1.43.59L10.3 9.45l-7.72 7.72c-.78.78-.78 2.05 0 2.83L4 21.41c.39.39.9.59 1.41.59.51 0 1.02-.2 1.41-.59l7.78-7.78 2.81-2.81c.8-.78.8-2.07 0-2.86zM5.41 20L4 18.59l7.72-7.72 1.47 1.35L5.41 20z\"/>\n",
              "  </svg>\n",
              "      </button>\n",
              "      \n",
              "  <style>\n",
              "    .colab-df-container {\n",
              "      display:flex;\n",
              "      flex-wrap:wrap;\n",
              "      gap: 12px;\n",
              "    }\n",
              "\n",
              "    .colab-df-convert {\n",
              "      background-color: #E8F0FE;\n",
              "      border: none;\n",
              "      border-radius: 50%;\n",
              "      cursor: pointer;\n",
              "      display: none;\n",
              "      fill: #1967D2;\n",
              "      height: 32px;\n",
              "      padding: 0 0 0 0;\n",
              "      width: 32px;\n",
              "    }\n",
              "\n",
              "    .colab-df-convert:hover {\n",
              "      background-color: #E2EBFA;\n",
              "      box-shadow: 0px 1px 2px rgba(60, 64, 67, 0.3), 0px 1px 3px 1px rgba(60, 64, 67, 0.15);\n",
              "      fill: #174EA6;\n",
              "    }\n",
              "\n",
              "    [theme=dark] .colab-df-convert {\n",
              "      background-color: #3B4455;\n",
              "      fill: #D2E3FC;\n",
              "    }\n",
              "\n",
              "    [theme=dark] .colab-df-convert:hover {\n",
              "      background-color: #434B5C;\n",
              "      box-shadow: 0px 1px 3px 1px rgba(0, 0, 0, 0.15);\n",
              "      filter: drop-shadow(0px 1px 2px rgba(0, 0, 0, 0.3));\n",
              "      fill: #FFFFFF;\n",
              "    }\n",
              "  </style>\n",
              "\n",
              "      <script>\n",
              "        const buttonEl =\n",
              "          document.querySelector('#df-a756957e-f2f6-44a2-8417-bafe1ca8ab11 button.colab-df-convert');\n",
              "        buttonEl.style.display =\n",
              "          google.colab.kernel.accessAllowed ? 'block' : 'none';\n",
              "\n",
              "        async function convertToInteractive(key) {\n",
              "          const element = document.querySelector('#df-a756957e-f2f6-44a2-8417-bafe1ca8ab11');\n",
              "          const dataTable =\n",
              "            await google.colab.kernel.invokeFunction('convertToInteractive',\n",
              "                                                     [key], {});\n",
              "          if (!dataTable) return;\n",
              "\n",
              "          const docLinkHtml = 'Like what you see? Visit the ' +\n",
              "            '<a target=\"_blank\" href=https://colab.research.google.com/notebooks/data_table.ipynb>data table notebook</a>'\n",
              "            + ' to learn more about interactive tables.';\n",
              "          element.innerHTML = '';\n",
              "          dataTable['output_type'] = 'display_data';\n",
              "          await google.colab.output.renderOutput(dataTable, element);\n",
              "          const docLink = document.createElement('div');\n",
              "          docLink.innerHTML = docLinkHtml;\n",
              "          element.appendChild(docLink);\n",
              "        }\n",
              "      </script>\n",
              "    </div>\n",
              "  </div>\n",
              "  "
            ]
          },
          "metadata": {},
          "execution_count": 125
        }
      ]
    },
    {
      "cell_type": "code",
      "source": [
        "# 멀티 플랏을 위한 멜팅작업\n",
        "df_melt = df_rec[['기업여부','만족도','추천점수']].melt(id_vars = '기업여부', var_name = '항목', value_name = '점수' )"
      ],
      "metadata": {
        "id": "PzF076H_sgfX"
      },
      "execution_count": 127,
      "outputs": []
    },
    {
      "cell_type": "code",
      "source": [
        "import seaborn as sns"
      ],
      "metadata": {
        "id": "u7gU9dHNUzpt"
      },
      "execution_count": 128,
      "outputs": []
    },
    {
      "cell_type": "code",
      "source": [
        "# 추천점수 높은 순으로 나열\n",
        "fig, ax = plt.subplots(2,1)\n",
        "ttl = len(df1112)\n",
        "ax1 = sns.barplot(x = '기업여부', y = '점수', hue = '항목', data = df_melt, \n",
        "            order = df_rec.sort_values(ascending = False, by = '추천점수')['기업여부'].values, ax = ax[0])\n",
        "for p in ax1.patches:\n",
        "  ax1.annotate('{:.2f}점'.format(p.get_height(), p.get_height()/ttl*100), (p.get_x()+0.025, p.get_height()+0.01), size=12)\n",
        "plt.title('CP2 진행 기업 별 만족도 및 추천점수')\n",
        "\n",
        "ax2 = sns.barplot(df_rec.sort_values(ascending = False, by = '추천점수')['기업여부'].values, df_rec.sort_values(ascending = False, by = '추천점수')['인원'].values, ax = ax[1]) \n",
        "for p in ax2.patches:\n",
        "  ax2.annotate('{:.0f}명'.format(p.get_height(), p.get_height()/ttl*100), (p.get_x()+0.025, p.get_height()+0.01), size=12)\n",
        "\n",
        "plt.title('CP2 진행 기업 별 인원')\n",
        "plt.rcParams['figure.figsize'] = (10,10);\n",
        "plt.show();"
      ],
      "metadata": {
        "colab": {
          "base_uri": "https://localhost:8080/",
          "height": 537
        },
        "id": "_nI80oqYgZa5",
        "outputId": "f28fd3c9-ecc1-489c-b259-79de9d4eef82"
      },
      "execution_count": 157,
      "outputs": [
        {
          "output_type": "display_data",
          "data": {
            "text/plain": [
              "<Figure size 720x648 with 2 Axes>"
            ],
            "image/png": "[encoded data removed]"
          },
          "metadata": {
            "needs_background": "light"
          }
        }
      ]
    },
    {
      "cell_type": "code",
      "source": [
        "ax = sns.countplot(df1112['CP2 어려운점'], order = df1112['CP2 어려운점'].value_counts().index)\n",
        "for p in ax.patches:\n",
        "  ax.annotate('{:.0f}명({:.2f}%)'.format(p.get_height(), p.get_height()/ttl*100), (p.get_x()+0.025, p.get_height()+0.01), size=12)\n",
        "plt.title('전체 CP2 진행 관련 어려운점')\n",
        "plt.rcParams['figure.figsize'] = (5,5)\n",
        "plt.show();"
      ],
      "metadata": {
        "colab": {
          "base_uri": "https://localhost:8080/",
          "height": 347
        },
        "outputId": "bcfd309a-dfc1-4213-9cdf-951378c07ed5",
        "id": "dLh3-Dy-sgfX"
      },
      "execution_count": 153,
      "outputs": [
        {
          "output_type": "display_data",
          "data": {
            "text/plain": [
              "<Figure size 576x360 with 1 Axes>"
            ],
            "image/png": "[encoded data removed]"
          },
          "metadata": {
            "needs_background": "light"
          }
        }
      ]
    },
    {
      "cell_type": "code",
      "source": [
        "import numpy as np\n",
        "rec_scores = []\n",
        "sat_scores = []\n",
        "for i in df1112['CP2 어려운점'].value_counts().index:\n",
        "  rec_scores.append(round(np.mean(df1112[df1112['CP2 어려운점']==i]['추천점수']),2))\n",
        "  sat_scores.append(round(np.mean(df1112[df1112['CP2 어려운점']==i]['CP2 완성도에 대한 만족도']),2))"
      ],
      "metadata": {
        "id": "ZcWCv5o_IXMt"
      },
      "execution_count": 138,
      "outputs": []
    },
    {
      "cell_type": "code",
      "source": [
        "df1112['CP2 어려운점'].value_counts().index[i]"
      ],
      "metadata": {
        "id": "v-n1jiqEUGuk"
      },
      "execution_count": null,
      "outputs": []
    },
    {
      "cell_type": "code",
      "source": [
        "ax1 = sns.lineplot(df1112['CP2 어려운점'].value_counts().index, rec_scores)\n",
        "ax2 = sns.lineplot(df1112['CP2 어려운점'].value_counts().index, sat_scores)\n",
        "\n",
        "plt.rcParams['figure.figsize'] = (8,5)\n",
        "plt.legend(['추천 점수','완성도의 만족도 점수'])\n",
        "plt.title('CP2에서의 어려움 유형 별 만족도 및 추천도')\n",
        "plt.show()"
      ],
      "metadata": {
        "colab": {
          "base_uri": "https://localhost:8080/",
          "height": 334
        },
        "id": "MlCN04CTJaNA",
        "outputId": "f6c0b3ec-c749-4590-8313-5c6e0d1c04bf"
      },
      "execution_count": 141,
      "outputs": [
        {
          "output_type": "display_data",
          "data": {
            "text/plain": [
              "<Figure size 720x360 with 1 Axes>"
            ],
            "image/png": "[encoded data removed]"
          },
          "metadata": {
            "needs_background": "light"
          }
        }
      ]
    },
    {
      "cell_type": "markdown",
      "source": [
        "유형 별로 보았을 때,   \n",
        "**'기업의 참여도'**과 **'기업과의 커뮤니케이션'**가 추천 점수 및 만족도 점수가 매우 낮음을 확인"
      ],
      "metadata": {
        "id": "h10foQCWM3o2"
      }
    },
    {
      "cell_type": "code",
      "source": [
        "# 프로젝트에 대한 부담 유형의 기업여부 및 추천점수, 만족도점수 파악\n",
        "df1112[df1112['CP2 어려운점']=='기업의 참여도'][['기업여부','추천점수', 'CP2 완성도에 대한 만족도','기타의견']]"
      ],
      "metadata": {
        "colab": {
          "base_uri": "https://localhost:8080/",
          "height": 269
        },
        "id": "tEp9sELvLPwQ",
        "outputId": "ce7dfbb5-7557-4745-928b-e9f4c87a24a5"
      },
      "execution_count": 143,
      "outputs": [
        {
          "output_type": "execute_result",
          "data": {
            "text/plain": [
              "     기업여부  추천점수 CP2 완성도에 대한 만족도  \\\n",
              "69  올마이투어     1               2   \n",
              "74   넥스트랩     4               5   \n",
              "79  올마이투어     2               2   \n",
              "82  올마이투어     4               5   \n",
              "87   넥스트랩     3               5   \n",
              "89     와플     4               2   \n",
              "94  올마이투어     5               4   \n",
              "\n",
              "                                                 기타의견  \n",
              "69  기업협업을 진행하기 전, 진행 방식을 기업 측에게 구체적으로 요구하면 좋겠습니다. ...  \n",
              "74  다양한 도메인의 기업이 참여했으면 좋겠습니다. 설문조사 때 매겼던 순위와 다른 기업...  \n",
              "79  기업이 적극적으로 참여하지 않아서 딱히 도움이 되지 않았습니다 그 점이 매우 아쉬웠...  \n",
              "82  기업협업을 진행할때 데이터를 조금더 빨리 받았다면 더 좋은 결과물이 나왔을텐데 아쉽...  \n",
              "87  기업 프로젝트라 조금더 실제 기업에서 진행하는 협업을 기대했지만 생각보다 그냥 데이...  \n",
              "89  기업협업 프로젝트에서 만약 이전기수에서 한 프로젝트와 연결이된 것을 진행한다면 사전...  \n",
              "94                                                NaN  "
            ],
            "text/html": [
              "\n",
              "  <div id=\"df-a503e2a1-823b-4aca-9064-4a91b04f4f27\">\n",
              "    <div class=\"colab-df-container\">\n",
              "      <div>\n",
              "<style scoped>\n",
              "    .dataframe tbody tr th:only-of-type {\n",
              "        vertical-align: middle;\n",
              "    }\n",
              "\n",
              "    .dataframe tbody tr th {\n",
              "        vertical-align: top;\n",
              "    }\n",
              "\n",
              "    .dataframe thead th {\n",
              "        text-align: right;\n",
              "    }\n",
              "</style>\n",
              "<table border=\"1\" class=\"dataframe\">\n",
              "  <thead>\n",
              "    <tr style=\"text-align: right;\">\n",
              "      <th></th>\n",
              "      <th>기업여부</th>\n",
              "      <th>추천점수</th>\n",
              "      <th>CP2 완성도에 대한 만족도</th>\n",
              "      <th>기타의견</th>\n",
              "    </tr>\n",
              "  </thead>\n",
              "  <tbody>\n",
              "    <tr>\n",
              "      <th>69</th>\n",
              "      <td>올마이투어</td>\n",
              "      <td>1</td>\n",
              "      <td>2</td>\n",
              "      <td>기업협업을 진행하기 전, 진행 방식을 기업 측에게 구체적으로 요구하면 좋겠습니다. ...</td>\n",
              "    </tr>\n",
              "    <tr>\n",
              "      <th>74</th>\n",
              "      <td>넥스트랩</td>\n",
              "      <td>4</td>\n",
              "      <td>5</td>\n",
              "      <td>다양한 도메인의 기업이 참여했으면 좋겠습니다. 설문조사 때 매겼던 순위와 다른 기업...</td>\n",
              "    </tr>\n",
              "    <tr>\n",
              "      <th>79</th>\n",
              "      <td>올마이투어</td>\n",
              "      <td>2</td>\n",
              "      <td>2</td>\n",
              "      <td>기업이 적극적으로 참여하지 않아서 딱히 도움이 되지 않았습니다 그 점이 매우 아쉬웠...</td>\n",
              "    </tr>\n",
              "    <tr>\n",
              "      <th>82</th>\n",
              "      <td>올마이투어</td>\n",
              "      <td>4</td>\n",
              "      <td>5</td>\n",
              "      <td>기업협업을 진행할때 데이터를 조금더 빨리 받았다면 더 좋은 결과물이 나왔을텐데 아쉽...</td>\n",
              "    </tr>\n",
              "    <tr>\n",
              "      <th>87</th>\n",
              "      <td>넥스트랩</td>\n",
              "      <td>3</td>\n",
              "      <td>5</td>\n",
              "      <td>기업 프로젝트라 조금더 실제 기업에서 진행하는 협업을 기대했지만 생각보다 그냥 데이...</td>\n",
              "    </tr>\n",
              "    <tr>\n",
              "      <th>89</th>\n",
              "      <td>와플</td>\n",
              "      <td>4</td>\n",
              "      <td>2</td>\n",
              "      <td>기업협업 프로젝트에서 만약 이전기수에서 한 프로젝트와 연결이된 것을 진행한다면 사전...</td>\n",
              "    </tr>\n",
              "    <tr>\n",
              "      <th>94</th>\n",
              "      <td>올마이투어</td>\n",
              "      <td>5</td>\n",
              "      <td>4</td>\n",
              "      <td>NaN</td>\n",
              "    </tr>\n",
              "  </tbody>\n",
              "</table>\n",
              "</div>\n",
              "      <button class=\"colab-df-convert\" onclick=\"convertToInteractive('df-a503e2a1-823b-4aca-9064-4a91b04f4f27')\"\n",
              "              title=\"Convert this dataframe to an interactive table.\"\n",
              "              style=\"display:none;\">\n",
              "        \n",
              "  <svg xmlns=\"http://www.w3.org/2000/svg\" height=\"24px\"viewBox=\"0 0 24 24\"\n",
              "       width=\"24px\">\n",
              "    <path d=\"M0 0h24v24H0V0z\" fill=\"none\"/>\n",
              "    <path d=\"M18.56 5.44l.94 2.06.94-2.06 2.06-.94-2.06-.94-.94-2.06-.94 2.06-2.06.94zm-11 1L8.5 8.5l.94-2.06 2.06-.94-2.06-.94L8.5 2.5l-.94 2.06-2.06.94zm10 10l.94 2.06.94-2.06 2.06-.94-2.06-.94-.94-2.06-.94 2.06-2.06.94z\"/><path d=\"M17.41 7.96l-1.37-1.37c-.4-.4-.92-.59-1.43-.59-.52 0-1.04.2-1.43.59L10.3 9.45l-7.72 7.72c-.78.78-.78 2.05 0 2.83L4 21.41c.39.39.9.59 1.41.59.51 0 1.02-.2 1.41-.59l7.78-7.78 2.81-2.81c.8-.78.8-2.07 0-2.86zM5.41 20L4 18.59l7.72-7.72 1.47 1.35L5.41 20z\"/>\n",
              "  </svg>\n",
              "      </button>\n",
              "      \n",
              "  <style>\n",
              "    .colab-df-container {\n",
              "      display:flex;\n",
              "      flex-wrap:wrap;\n",
              "      gap: 12px;\n",
              "    }\n",
              "\n",
              "    .colab-df-convert {\n",
              "      background-color: #E8F0FE;\n",
              "      border: none;\n",
              "      border-radius: 50%;\n",
              "      cursor: pointer;\n",
              "      display: none;\n",
              "      fill: #1967D2;\n",
              "      height: 32px;\n",
              "      padding: 0 0 0 0;\n",
              "      width: 32px;\n",
              "    }\n",
              "\n",
              "    .colab-df-convert:hover {\n",
              "      background-color: #E2EBFA;\n",
              "      box-shadow: 0px 1px 2px rgba(60, 64, 67, 0.3), 0px 1px 3px 1px rgba(60, 64, 67, 0.15);\n",
              "      fill: #174EA6;\n",
              "    }\n",
              "\n",
              "    [theme=dark] .colab-df-convert {\n",
              "      background-color: #3B4455;\n",
              "      fill: #D2E3FC;\n",
              "    }\n",
              "\n",
              "    [theme=dark] .colab-df-convert:hover {\n",
              "      background-color: #434B5C;\n",
              "      box-shadow: 0px 1px 3px 1px rgba(0, 0, 0, 0.15);\n",
              "      filter: drop-shadow(0px 1px 2px rgba(0, 0, 0, 0.3));\n",
              "      fill: #FFFFFF;\n",
              "    }\n",
              "  </style>\n",
              "\n",
              "      <script>\n",
              "        const buttonEl =\n",
              "          document.querySelector('#df-a503e2a1-823b-4aca-9064-4a91b04f4f27 button.colab-df-convert');\n",
              "        buttonEl.style.display =\n",
              "          google.colab.kernel.accessAllowed ? 'block' : 'none';\n",
              "\n",
              "        async function convertToInteractive(key) {\n",
              "          const element = document.querySelector('#df-a503e2a1-823b-4aca-9064-4a91b04f4f27');\n",
              "          const dataTable =\n",
              "            await google.colab.kernel.invokeFunction('convertToInteractive',\n",
              "                                                     [key], {});\n",
              "          if (!dataTable) return;\n",
              "\n",
              "          const docLinkHtml = 'Like what you see? Visit the ' +\n",
              "            '<a target=\"_blank\" href=https://colab.research.google.com/notebooks/data_table.ipynb>data table notebook</a>'\n",
              "            + ' to learn more about interactive tables.';\n",
              "          element.innerHTML = '';\n",
              "          dataTable['output_type'] = 'display_data';\n",
              "          await google.colab.output.renderOutput(dataTable, element);\n",
              "          const docLink = document.createElement('div');\n",
              "          docLink.innerHTML = docLinkHtml;\n",
              "          element.appendChild(docLink);\n",
              "        }\n",
              "      </script>\n",
              "    </div>\n",
              "  </div>\n",
              "  "
            ]
          },
          "metadata": {},
          "execution_count": 143
        }
      ]
    },
    {
      "cell_type": "code",
      "source": [
        "# 프로젝트에 대한 부담 유형의 기업여부 및 추천점수, 만족도점수 파악\n",
        "df1112[df1112['CP2 어려운점']=='기업과의 커뮤니케이션'][['기업여부','추천점수', 'CP2 완성도에 대한 만족도','기타의견']]"
      ],
      "metadata": {
        "colab": {
          "base_uri": "https://localhost:8080/",
          "height": 238
        },
        "id": "Gyirdh2EMf1d",
        "outputId": "c34b2997-000f-4f3f-fa8c-279f028f0c76"
      },
      "execution_count": 144,
      "outputs": [
        {
          "output_type": "execute_result",
          "data": {
            "text/plain": [
              "       기업여부  추천점수 CP2 완성도에 대한 만족도  \\\n",
              "67    올마이투어     1               1   \n",
              "68       와플     3               3   \n",
              "76    올마이투어     5               6   \n",
              "80    올마이투어     4               5   \n",
              "83  후케어스코리아     5               4   \n",
              "97    올마이투어     2               3   \n",
              "\n",
              "                                                 기타의견  \n",
              "67  기업협업을 하는 이유는 기업 내 실제 데이터의 흐름을 파악하고 전체 프로세스 중 일...  \n",
              "68                                      목표에 대한 명확한 설명  \n",
              "76  기업에서 자사의 데이터가 외부로 유출되는 상황을 걱정하여 조심스러운 것은 알지만, ...  \n",
              "80  기업이 적극적인지 미리 아는 것이 쉽지는 않겠지만 협업 기업 선정을 잘 해주셔야 할...  \n",
              "83                            코치님들의 도움이 조금 더 필요할 것 같다  \n",
              "97  올마이투어를 진행하면서, 1. 지원자 12명을 전부 프로젝트에 투입했는데 과합니다....  "
            ],
            "text/html": [
              "\n",
              "  <div id=\"df-61152714-2ecf-4f31-b1de-cbc61acb3298\">\n",
              "    <div class=\"colab-df-container\">\n",
              "      <div>\n",
              "<style scoped>\n",
              "    .dataframe tbody tr th:only-of-type {\n",
              "        vertical-align: middle;\n",
              "    }\n",
              "\n",
              "    .dataframe tbody tr th {\n",
              "        vertical-align: top;\n",
              "    }\n",
              "\n",
              "    .dataframe thead th {\n",
              "        text-align: right;\n",
              "    }\n",
              "</style>\n",
              "<table border=\"1\" class=\"dataframe\">\n",
              "  <thead>\n",
              "    <tr style=\"text-align: right;\">\n",
              "      <th></th>\n",
              "      <th>기업여부</th>\n",
              "      <th>추천점수</th>\n",
              "      <th>CP2 완성도에 대한 만족도</th>\n",
              "      <th>기타의견</th>\n",
              "    </tr>\n",
              "  </thead>\n",
              "  <tbody>\n",
              "    <tr>\n",
              "      <th>67</th>\n",
              "      <td>올마이투어</td>\n",
              "      <td>1</td>\n",
              "      <td>1</td>\n",
              "      <td>기업협업을 하는 이유는 기업 내 실제 데이터의 흐름을 파악하고 전체 프로세스 중 일...</td>\n",
              "    </tr>\n",
              "    <tr>\n",
              "      <th>68</th>\n",
              "      <td>와플</td>\n",
              "      <td>3</td>\n",
              "      <td>3</td>\n",
              "      <td>목표에 대한 명확한 설명</td>\n",
              "    </tr>\n",
              "    <tr>\n",
              "      <th>76</th>\n",
              "      <td>올마이투어</td>\n",
              "      <td>5</td>\n",
              "      <td>6</td>\n",
              "      <td>기업에서 자사의 데이터가 외부로 유출되는 상황을 걱정하여 조심스러운 것은 알지만, ...</td>\n",
              "    </tr>\n",
              "    <tr>\n",
              "      <th>80</th>\n",
              "      <td>올마이투어</td>\n",
              "      <td>4</td>\n",
              "      <td>5</td>\n",
              "      <td>기업이 적극적인지 미리 아는 것이 쉽지는 않겠지만 협업 기업 선정을 잘 해주셔야 할...</td>\n",
              "    </tr>\n",
              "    <tr>\n",
              "      <th>83</th>\n",
              "      <td>후케어스코리아</td>\n",
              "      <td>5</td>\n",
              "      <td>4</td>\n",
              "      <td>코치님들의 도움이 조금 더 필요할 것 같다</td>\n",
              "    </tr>\n",
              "    <tr>\n",
              "      <th>97</th>\n",
              "      <td>올마이투어</td>\n",
              "      <td>2</td>\n",
              "      <td>3</td>\n",
              "      <td>올마이투어를 진행하면서, 1. 지원자 12명을 전부 프로젝트에 투입했는데 과합니다....</td>\n",
              "    </tr>\n",
              "  </tbody>\n",
              "</table>\n",
              "</div>\n",
              "      <button class=\"colab-df-convert\" onclick=\"convertToInteractive('df-61152714-2ecf-4f31-b1de-cbc61acb3298')\"\n",
              "              title=\"Convert this dataframe to an interactive table.\"\n",
              "              style=\"display:none;\">\n",
              "        \n",
              "  <svg xmlns=\"http://www.w3.org/2000/svg\" height=\"24px\"viewBox=\"0 0 24 24\"\n",
              "       width=\"24px\">\n",
              "    <path d=\"M0 0h24v24H0V0z\" fill=\"none\"/>\n",
              "    <path d=\"M18.56 5.44l.94 2.06.94-2.06 2.06-.94-2.06-.94-.94-2.06-.94 2.06-2.06.94zm-11 1L8.5 8.5l.94-2.06 2.06-.94-2.06-.94L8.5 2.5l-.94 2.06-2.06.94zm10 10l.94 2.06.94-2.06 2.06-.94-2.06-.94-.94-2.06-.94 2.06-2.06.94z\"/><path d=\"M17.41 7.96l-1.37-1.37c-.4-.4-.92-.59-1.43-.59-.52 0-1.04.2-1.43.59L10.3 9.45l-7.72 7.72c-.78.78-.78 2.05 0 2.83L4 21.41c.39.39.9.59 1.41.59.51 0 1.02-.2 1.41-.59l7.78-7.78 2.81-2.81c.8-.78.8-2.07 0-2.86zM5.41 20L4 18.59l7.72-7.72 1.47 1.35L5.41 20z\"/>\n",
              "  </svg>\n",
              "      </button>\n",
              "      \n",
              "  <style>\n",
              "    .colab-df-container {\n",
              "      display:flex;\n",
              "      flex-wrap:wrap;\n",
              "      gap: 12px;\n",
              "    }\n",
              "\n",
              "    .colab-df-convert {\n",
              "      background-color: #E8F0FE;\n",
              "      border: none;\n",
              "      border-radius: 50%;\n",
              "      cursor: pointer;\n",
              "      display: none;\n",
              "      fill: #1967D2;\n",
              "      height: 32px;\n",
              "      padding: 0 0 0 0;\n",
              "      width: 32px;\n",
              "    }\n",
              "\n",
              "    .colab-df-convert:hover {\n",
              "      background-color: #E2EBFA;\n",
              "      box-shadow: 0px 1px 2px rgba(60, 64, 67, 0.3), 0px 1px 3px 1px rgba(60, 64, 67, 0.15);\n",
              "      fill: #174EA6;\n",
              "    }\n",
              "\n",
              "    [theme=dark] .colab-df-convert {\n",
              "      background-color: #3B4455;\n",
              "      fill: #D2E3FC;\n",
              "    }\n",
              "\n",
              "    [theme=dark] .colab-df-convert:hover {\n",
              "      background-color: #434B5C;\n",
              "      box-shadow: 0px 1px 3px 1px rgba(0, 0, 0, 0.15);\n",
              "      filter: drop-shadow(0px 1px 2px rgba(0, 0, 0, 0.3));\n",
              "      fill: #FFFFFF;\n",
              "    }\n",
              "  </style>\n",
              "\n",
              "      <script>\n",
              "        const buttonEl =\n",
              "          document.querySelector('#df-61152714-2ecf-4f31-b1de-cbc61acb3298 button.colab-df-convert');\n",
              "        buttonEl.style.display =\n",
              "          google.colab.kernel.accessAllowed ? 'block' : 'none';\n",
              "\n",
              "        async function convertToInteractive(key) {\n",
              "          const element = document.querySelector('#df-61152714-2ecf-4f31-b1de-cbc61acb3298');\n",
              "          const dataTable =\n",
              "            await google.colab.kernel.invokeFunction('convertToInteractive',\n",
              "                                                     [key], {});\n",
              "          if (!dataTable) return;\n",
              "\n",
              "          const docLinkHtml = 'Like what you see? Visit the ' +\n",
              "            '<a target=\"_blank\" href=https://colab.research.google.com/notebooks/data_table.ipynb>data table notebook</a>'\n",
              "            + ' to learn more about interactive tables.';\n",
              "          element.innerHTML = '';\n",
              "          dataTable['output_type'] = 'display_data';\n",
              "          await google.colab.output.renderOutput(dataTable, element);\n",
              "          const docLink = document.createElement('div');\n",
              "          docLink.innerHTML = docLinkHtml;\n",
              "          element.appendChild(docLink);\n",
              "        }\n",
              "      </script>\n",
              "    </div>\n",
              "  </div>\n",
              "  "
            ]
          },
          "metadata": {},
          "execution_count": 144
        }
      ]
    },
    {
      "cell_type": "markdown",
      "source": [
        "## Text 분석"
      ],
      "metadata": {
        "id": "eDOIHMkd8Tqq"
      }
    },
    {
      "cell_type": "markdown",
      "source": [
        "### 키워드 추출 -> 데이터 부족으로인해 의미없음"
      ],
      "metadata": {
        "id": "vaiYdJt3rmgV"
      }
    },
    {
      "cell_type": "markdown",
      "source": [
        "#### 메캅 환경설정"
      ],
      "metadata": {
        "id": "Qi4_hdCIr8h6"
      }
    },
    {
      "cell_type": "code",
      "source": [
        "%%bash\n",
        "apt-get update\n",
        "apt-get install g++ openjdk-8-jdk python-dev python3-dev\n",
        "pip3 install JPype1\n",
        "pip3 install konlpy"
      ],
      "metadata": {
        "id": "7bL-MrauxDsP"
      },
      "execution_count": null,
      "outputs": []
    },
    {
      "cell_type": "code",
      "source": [
        "%env JAVA_HOME \"/usr/lib/jvm/java-8-openjdk-amd64\""
      ],
      "metadata": {
        "id": "JAbmbUixxcbc",
        "colab": {
          "base_uri": "https://localhost:8080/"
        },
        "outputId": "2e7385d5-919d-41af-8f26-7b2e852ec1d4"
      },
      "execution_count": null,
      "outputs": [
        {
          "output_type": "stream",
          "name": "stdout",
          "text": [
            "env: JAVA_HOME=\"/usr/lib/jvm/java-8-openjdk-amd64\"\n"
          ]
        }
      ]
    },
    {
      "cell_type": "code",
      "source": [
        "%%bash\n",
        "bash <(curl -s https://raw.githubusercontent.com/konlpy/konlpy/master/scripts/mecab.sh)\n",
        "pip3 install /tmp/mecab-python-0.996"
      ],
      "metadata": {
        "id": "Sy49xGRvxcUT"
      },
      "execution_count": null,
      "outputs": []
    },
    {
      "cell_type": "markdown",
      "source": [
        "#### 명사 추출"
      ],
      "metadata": {
        "id": "FjKSLl_XsA1Y"
      }
    },
    {
      "cell_type": "code",
      "source": [
        "from konlpy.tag import Mecab\n",
        "mecab = Mecab()"
      ],
      "metadata": {
        "id": "BVR0JA3S8WIk"
      },
      "execution_count": null,
      "outputs": []
    },
    {
      "cell_type": "code",
      "source": [
        "stopword = ['프로젝트','CP2']"
      ],
      "metadata": {
        "id": "p8NLjKpV9jnF"
      },
      "execution_count": null,
      "outputs": []
    },
    {
      "cell_type": "code",
      "source": [
        "df2['기타의견'] = df2['기타의견'].fillna('없음')"
      ],
      "metadata": {
        "id": "_TC2DImB-O1p"
      },
      "execution_count": null,
      "outputs": []
    },
    {
      "cell_type": "code",
      "source": [
        "import re\n",
        "from collections import Counter\n",
        "\n",
        "def token_counter(df, text_pos, num, stopword):\n",
        "  sentence_tag = []\n",
        "  for text in df['기타의견']:\n",
        "    # 특수문자제거\n",
        "    con = re.compile(r'[^ A-Za-z0-9가-힣+]')\n",
        "    cleaned = con.sub('', text).lower()\n",
        "    morphs = mecab.pos(cleaned)\n",
        "    sentence_tag.append(morphs)\n",
        "  container = 0\n",
        "  result = []\n",
        "  for sentence in sentence_tag:\n",
        "    for word, tag in sentence:\n",
        "      if (tag == text_pos)and (len(word) > 1) and (word not in stopword):\n",
        "        result.append(word)\n",
        "  counts = Counter(result)\n",
        "  top_keyword = counts.most_common(num) \n",
        "  return top_keyword\n"
      ],
      "metadata": {
        "id": "h7Oh7Gw-99vz"
      },
      "execution_count": null,
      "outputs": []
    },
    {
      "cell_type": "code",
      "source": [
        "token_counter(df2, 'NNG', 100, stopword)"
      ],
      "metadata": {
        "id": "52e-HhYj9-Lo"
      },
      "execution_count": null,
      "outputs": []
    },
    {
      "cell_type": "markdown",
      "source": [
        "### 9,10기 Text(기타의견) 추출"
      ],
      "metadata": {
        "id": "VT4wHbupkf2A"
      }
    },
    {
      "cell_type": "code",
      "source": [
        "for i in df1112['기타의견']:\n",
        "  print('>>>', i, '\\n')"
      ],
      "metadata": {
        "colab": {
          "base_uri": "https://localhost:8080/"
        },
        "id": "mgNb3XDvwkd1",
        "outputId": "a59461ed-9c05-4492-f491-d554ecf6b780"
      },
      "execution_count": 145,
      "outputs": [
        {
          "output_type": "stream",
          "name": "stdout",
          "text": [
            ">>> 회사에 들어갔다 생각하고 프로젝트 하라고 했는데 마음가짐은 회사원이지만 실제로는 훈련병 때로 돌아간것 같은 느낌이었습니다 \n",
            "\n",
            ">>> 없음 \n",
            "\n",
            ">>> nan \n",
            "\n",
            ">>> 기업협업을 하는 이유는 기업 내 실제 데이터의 흐름을 파악하고 전체 프로세스 중 일부라도 직접 참여해보는 기회가 되길 바랬지만 전혀 이루어지지않음. 기업에서 제대로 된 데이터를 제공받기까지 20일 이상 소요되었으며 초기 14일은 아무런 커뮤니케이션 조차 이루어지지 않음. \n",
            "\n",
            ">>> 목표에 대한 명확한 설명 \n",
            "\n",
            ">>> 기업협업을 진행하기 전, 진행 방식을 기업 측에게 구체적으로 요구하면 좋겠습니다. 전혀 준비되어 있지 않은 기업이라 느꼈으며, 특히 데이터를 받는 시간이 오래 걸린 것은 아직도 이해가 어렵네요. 기업과 이런 부분은 CP2진행 이전에 협의가 된 상태여야 한다고 생각됩니다. \n",
            "\n",
            ">>> 이번에 코드스테이츠 프로젝트를 주도하신 이남준 코치님이 매우 잘이끌어주셔서 프로젝트를 하면서 많이 배워갔습니다. \n",
            "\n",
            ">>> 협업기업의 수와 관련 주제가 협소한 느낌이어서 좀 다양하게 만들었으면 좋을 듯 합니다. \n",
            "\n",
            ">>> 없음 \n",
            "\n",
            ">>> 다양한 도메인의 기업이 참여했으면 좋겠습니다. 설문조사 때 매겼던 순위와 다른 기업의 프로젝트를 진행해야해서 당황스러웠습니다. \n",
            "\n",
            ">>> 다양한 선택지를 제외하고는 부족한 점이 없는 것 같습니다. \n",
            "\n",
            ">>> 기업에서 자사의 데이터가 외부로 유출되는 상황을 걱정하여 조심스러운 것은 알지만, 이를 감안하더라도 초기에 협력 자세가 부족하여 개인적으로 많은 시간이 아쉽게 흘러간 느낌을 받았습니다. 기업에서도 원하는 목표와 본인들의 역량을 구체적으로 밝힌다면, 코드스테이츠 참여자들이 프로젝트를 진행함에 있어서 좀 더 구체적이고 효율적인 계획 작성과 좀 더 나은 성과를 기록할 수 있을 것 같습니다. \n",
            "\n",
            ">>> 코치님들이 많이 도와주시고 좋았습니다 \n",
            "\n",
            ">>> 없습니다 \n",
            "\n",
            ">>> 기업이 적극적으로 참여하지 않아서 딱히 도움이 되지 않았습니다 그 점이 매우 아쉬웠습니다. 프로젝트가 끝났는데 빈말로라도 수고했다는 말이 없네요 ㅎㅎ... ^^... \n",
            "\n",
            ">>> 기업이 적극적인지 미리 아는 것이 쉽지는 않겠지만 협업 기업 선정을 잘 해주셔야 할 것 같습니다. 4주라는 긴 시간인데 기업이 협조적이지 않으면 프로젝트 구성원들에게는 시간을 허비하는 것이나 다름없다고 생각합니다. \n",
            "\n",
            ">>> 데이터 직군이 있는 기업으로 구성된다면 더욱 좋을것 같습니다. \n",
            "\n",
            ">>> 기업협업을 진행할때 데이터를 조금더 빨리 받았다면 더 좋은 결과물이 나왔을텐데 아쉽습니다, \n",
            "\n",
            ">>> 코치님들의 도움이 조금 더 필요할 것 같다 \n",
            "\n",
            ">>> nan \n",
            "\n",
            ">>> 기업 협업 중간에 커리어 코칭이 있다기보단 커리어 시간은 따로 주욱 빼서 집중할 수 있게 해주었으면 좋겠다. 약간 커리어 코칭이 cp2 사이사이 끼면서 cp2에 온전히 집중한 결과 커리어 준비 부분은 많이 놓치게 되지 않았나 싶다. 오히려 커리어에 포커스해야 하나 싶기도 하는 불안감이 생긴다. \n",
            "\n",
            ">>> 없음 \n",
            "\n",
            ">>> 기업 프로젝트라 조금더 실제 기업에서 진행하는 협업을 기대했지만 생각보다 그냥 데이터만 던져주고 나머지는 알아서해라. 라서 별로였다 \n",
            "\n",
            ">>> nan \n",
            "\n",
            ">>> 기업협업 프로젝트에서 만약 이전기수에서 한 프로젝트와 연결이된 것을 진행한다면 사전에 고지해주셧으면 좋겟스니다 \n",
            "\n",
            ">>> nan \n",
            "\n",
            ">>> ... \n",
            "\n",
            ">>> 없습니다. \n",
            "\n",
            ">>> 기업 협업 , 조편성 까지 조금 일찍 정해져서 미리 기획을 할 수 있었으면  어떨까 하는 짧은 생각. \n",
            "\n",
            ">>> nan \n",
            "\n",
            ">>> 기업협업에서는 특별하게 문제는 없었던것 같습니다. \n",
            "\n",
            ">>> 더 많은 기업들이 참여했으면 좋겠습니다 \n",
            "\n",
            ">>> 올마이투어를 진행하면서, 1. 지원자 12명을 전부 프로젝트에 투입했는데 과합니다. 다른 프로젝트에 배정하더라도 인원수를 줄였어야 한다고 생각합니다. 2. 기업의 준비/커뮤니케이션 부족한 것이 많이 느껴졌습니다. 본인들이 진행하려고 하는 프로젝트가 가능한지, 데이터는 어떤 걸 준비해야 하는지 잘 모르시다는 느낌이었습니다. 사실 이것보다도 커뮤니케이션을 진행해서 필요 데이터에 대해 이야기를 했음에도 너무 늦은 점 등 전체적으로 불만족스러운 프로젝트였습니다. \n",
            "\n"
          ]
        }
      ]
    },
    {
      "cell_type": "markdown",
      "source": [
        ""
      ],
      "metadata": {
        "id": "3VCbB16_tIZ4"
      }
    },
    {
      "cell_type": "markdown",
      "source": [
        "### 기업 별 Text 추출"
      ],
      "metadata": {
        "id": "im5DUGlRtIz3"
      }
    },
    {
      "cell_type": "code",
      "source": [
        "def printing(df, 기업):\n",
        "  for i in df[df['기업여부']==기업]['기타의견']:\n",
        "    if type(i) != float and len(i)> 5:\n",
        "      print(f\">>>{i}\\n\")\n",
        "    else:\n",
        "      pass"
      ],
      "metadata": {
        "id": "459sN2lW6hNN"
      },
      "execution_count": 146,
      "outputs": []
    },
    {
      "cell_type": "code",
      "source": [
        "printing(df1112, '와플')"
      ],
      "metadata": {
        "colab": {
          "base_uri": "https://localhost:8080/"
        },
        "id": "nHdLZkPHhu7x",
        "outputId": "19402b68-0720-47a0-9d5a-98c44491170e"
      },
      "execution_count": 147,
      "outputs": [
        {
          "output_type": "stream",
          "name": "stdout",
          "text": [
            ">>>목표에 대한 명확한 설명\n",
            "\n",
            ">>>기업협업 프로젝트에서 만약 이전기수에서 한 프로젝트와 연결이된 것을 진행한다면 사전에 고지해주셧으면 좋겟스니다\n",
            "\n"
          ]
        }
      ]
    },
    {
      "cell_type": "code",
      "source": [
        "printing(df1112, '후케어스코리아')"
      ],
      "metadata": {
        "colab": {
          "base_uri": "https://localhost:8080/"
        },
        "id": "QM1SXgry6d4S",
        "outputId": "e7bb503a-85e1-4ddd-9fdf-0ee5aa28a599"
      },
      "execution_count": 148,
      "outputs": [
        {
          "output_type": "stream",
          "name": "stdout",
          "text": [
            ">>>데이터 직군이 있는 기업으로 구성된다면 더욱 좋을것 같습니다.\n",
            "\n",
            ">>>코치님들의 도움이 조금 더 필요할 것 같다\n",
            "\n",
            ">>>기업 협업 중간에 커리어 코칭이 있다기보단 커리어 시간은 따로 주욱 빼서 집중할 수 있게 해주었으면 좋겠다. 약간 커리어 코칭이 cp2 사이사이 끼면서 cp2에 온전히 집중한 결과 커리어 준비 부분은 많이 놓치게 되지 않았나 싶다. 오히려 커리어에 포커스해야 하나 싶기도 하는 불안감이 생긴다.\n",
            "\n",
            ">>>기업협업에서는 특별하게 문제는 없었던것 같습니다.\n",
            "\n"
          ]
        }
      ]
    },
    {
      "cell_type": "code",
      "source": [
        "printing(df1112, '올마이투어')"
      ],
      "metadata": {
        "colab": {
          "base_uri": "https://localhost:8080/"
        },
        "id": "pu18TANK9oEK",
        "outputId": "b888f503-f5c1-44f5-b954-36bd2deaf950"
      },
      "execution_count": 149,
      "outputs": [
        {
          "output_type": "stream",
          "name": "stdout",
          "text": [
            ">>>기업협업을 하는 이유는 기업 내 실제 데이터의 흐름을 파악하고 전체 프로세스 중 일부라도 직접 참여해보는 기회가 되길 바랬지만 전혀 이루어지지않음. 기업에서 제대로 된 데이터를 제공받기까지 20일 이상 소요되었으며 초기 14일은 아무런 커뮤니케이션 조차 이루어지지 않음.\n",
            "\n",
            ">>>기업협업을 진행하기 전, 진행 방식을 기업 측에게 구체적으로 요구하면 좋겠습니다. 전혀 준비되어 있지 않은 기업이라 느꼈으며, 특히 데이터를 받는 시간이 오래 걸린 것은 아직도 이해가 어렵네요. 기업과 이런 부분은 CP2진행 이전에 협의가 된 상태여야 한다고 생각됩니다.\n",
            "\n",
            ">>>기업에서 자사의 데이터가 외부로 유출되는 상황을 걱정하여 조심스러운 것은 알지만, 이를 감안하더라도 초기에 협력 자세가 부족하여 개인적으로 많은 시간이 아쉽게 흘러간 느낌을 받았습니다. 기업에서도 원하는 목표와 본인들의 역량을 구체적으로 밝힌다면, 코드스테이츠 참여자들이 프로젝트를 진행함에 있어서 좀 더 구체적이고 효율적인 계획 작성과 좀 더 나은 성과를 기록할 수 있을 것 같습니다.\n",
            "\n",
            ">>>기업이 적극적으로 참여하지 않아서 딱히 도움이 되지 않았습니다 그 점이 매우 아쉬웠습니다. 프로젝트가 끝났는데 빈말로라도 수고했다는 말이 없네요 ㅎㅎ... ^^...\n",
            "\n",
            ">>>기업이 적극적인지 미리 아는 것이 쉽지는 않겠지만 협업 기업 선정을 잘 해주셔야 할 것 같습니다. 4주라는 긴 시간인데 기업이 협조적이지 않으면 프로젝트 구성원들에게는 시간을 허비하는 것이나 다름없다고 생각합니다.\n",
            "\n",
            ">>>기업협업을 진행할때 데이터를 조금더 빨리 받았다면 더 좋은 결과물이 나왔을텐데 아쉽습니다,\n",
            "\n",
            ">>>올마이투어를 진행하면서, 1. 지원자 12명을 전부 프로젝트에 투입했는데 과합니다. 다른 프로젝트에 배정하더라도 인원수를 줄였어야 한다고 생각합니다. 2. 기업의 준비/커뮤니케이션 부족한 것이 많이 느껴졌습니다. 본인들이 진행하려고 하는 프로젝트가 가능한지, 데이터는 어떤 걸 준비해야 하는지 잘 모르시다는 느낌이었습니다. 사실 이것보다도 커뮤니케이션을 진행해서 필요 데이터에 대해 이야기를 했음에도 너무 늦은 점 등 전체적으로 불만족스러운 프로젝트였습니다.\n",
            "\n"
          ]
        }
      ]
    },
    {
      "cell_type": "code",
      "source": [
        "printing(df1112, '넥스트랩')"
      ],
      "metadata": {
        "colab": {
          "base_uri": "https://localhost:8080/"
        },
        "id": "Ee7WL0zH-RZG",
        "outputId": "8a24f455-ccb0-4d53-9063-0f5774e533a2"
      },
      "execution_count": 150,
      "outputs": [
        {
          "output_type": "stream",
          "name": "stdout",
          "text": [
            ">>>다양한 도메인의 기업이 참여했으면 좋겠습니다. 설문조사 때 매겼던 순위와 다른 기업의 프로젝트를 진행해야해서 당황스러웠습니다.\n",
            "\n",
            ">>>다양한 선택지를 제외하고는 부족한 점이 없는 것 같습니다.\n",
            "\n",
            ">>>기업 프로젝트라 조금더 실제 기업에서 진행하는 협업을 기대했지만 생각보다 그냥 데이터만 던져주고 나머지는 알아서해라. 라서 별로였다\n",
            "\n"
          ]
        }
      ]
    },
    {
      "cell_type": "code",
      "source": [
        "printing(df1112, '분석&추천')"
      ],
      "metadata": {
        "colab": {
          "base_uri": "https://localhost:8080/"
        },
        "id": "0tbQWKxc_lXc",
        "outputId": "ecd9870c-07ad-45b0-9b18-03414ee8c8a1"
      },
      "execution_count": 151,
      "outputs": [
        {
          "output_type": "stream",
          "name": "stdout",
          "text": [
            ">>>이번에 코드스테이츠 프로젝트를 주도하신 이남준 코치님이 매우 잘이끌어주셔서 프로젝트를 하면서 많이 배워갔습니다.\n",
            "\n",
            ">>>코치님들이 많이 도와주시고 좋았습니다\n",
            "\n"
          ]
        }
      ]
    },
    {
      "cell_type": "code",
      "source": [
        "printing(df1112, '개인')"
      ],
      "metadata": {
        "colab": {
          "base_uri": "https://localhost:8080/"
        },
        "id": "Tr5ZnNpMArmL",
        "outputId": "18e8b839-fa50-4dff-848a-b8eaa0b1bfd2"
      },
      "execution_count": 152,
      "outputs": [
        {
          "output_type": "stream",
          "name": "stdout",
          "text": [
            ">>>회사에 들어갔다 생각하고 프로젝트 하라고 했는데 마음가짐은 회사원이지만 실제로는 훈련병 때로 돌아간것 같은 느낌이었습니다\n",
            "\n",
            ">>>협업기업의 수와 관련 주제가 협소한 느낌이어서 좀 다양하게 만들었으면 좋을 듯 합니다.\n",
            "\n",
            ">>>기업 협업 , 조편성 까지 조금 일찍 정해져서 미리 기획을 할 수 있었으면  어떨까 하는 짧은 생각.\n",
            "\n",
            ">>>더 많은 기업들이 참여했으면 좋겠습니다\n",
            "\n"
          ]
        }
      ]
    }
  ]
}